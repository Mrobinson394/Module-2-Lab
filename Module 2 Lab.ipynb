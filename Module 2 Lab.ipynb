{
 "cells": [
  {
   "cell_type": "code",
   "execution_count": null,
   "id": "18fc8667-46bf-4d27-9c33-7465dfbaf910",
   "metadata": {},
   "outputs": [
    {
     "name": "stdin",
     "output_type": "stream",
     "text": [
      "Enter the student's last name (or 'ZZZ' to quit):  Rodger\n",
      "Enter the student's first name:  Danny\n",
      "Enter the student's GPA:  3.9\n"
     ]
    },
    {
     "name": "stdout",
     "output_type": "stream",
     "text": [
      "Danny Rodger has made the Dean's List.\n"
     ]
    },
    {
     "name": "stdin",
     "output_type": "stream",
     "text": [
      "Enter the student's last name (or 'ZZZ' to quit):  Doe\n",
      "Enter the student's first name:  Jack\n",
      "Enter the student's GPA:  2.0\n"
     ]
    },
    {
     "name": "stdout",
     "output_type": "stream",
     "text": [
      "Jack Doe does not qualify for the Dean's List or Honor Roll.\n"
     ]
    },
    {
     "name": "stdin",
     "output_type": "stream",
     "text": [
      "Enter the student's last name (or 'ZZZ' to quit):  Turner\n",
      "Enter the student's first name:  Tina\n",
      "Enter the student's GPA:  4.0\n"
     ]
    },
    {
     "name": "stdout",
     "output_type": "stream",
     "text": [
      "Tina Turner has made the Dean's List.\n"
     ]
    },
    {
     "name": "stdin",
     "output_type": "stream",
     "text": [
      "Enter the student's last name (or 'ZZZ' to quit):  Mcdonald\n",
      "Enter the student's first name:  Joe\n",
      "Enter the student's GPA:  3.1\n"
     ]
    },
    {
     "name": "stdout",
     "output_type": "stream",
     "text": [
      "Joe Mcdonald does not qualify for the Dean's List or Honor Roll.\n"
     ]
    },
    {
     "name": "stdin",
     "output_type": "stream",
     "text": [
      "Enter the student's last name (or 'ZZZ' to quit):  Robinson\n",
      "Enter the student's first name:  Maya\n",
      "Enter the student's GPA:  4.2\n"
     ]
    },
    {
     "name": "stdout",
     "output_type": "stream",
     "text": [
      "Maya Robinson has made the Dean's List.\n"
     ]
    },
    {
     "name": "stdin",
     "output_type": "stream",
     "text": [
      "Enter the student's last name (or 'ZZZ' to quit):  Django\n",
      "Enter the student's first name:  Tim\n",
      "Enter the student's GPA:  2.6\n"
     ]
    },
    {
     "name": "stdout",
     "output_type": "stream",
     "text": [
      "Tim Django does not qualify for the Dean's List or Honor Roll.\n"
     ]
    }
   ],
   "source": [
    "# Author: Maya robinson\n",
    "# File Name: student_gpa_checker.py\n",
    "# Description: This app accepts student names and GPAs, and determines if they qualify for the Dean's List or the Honor Roll.\n",
    "\n",
    "while True:\n",
    "    # Ask for the student's last name\n",
    "    last_name = input(\"Enter the student's last name (or 'ZZZ' to quit): \")\n",
    "    \n",
    "    # Check if the user wants to quit\n",
    "    if last_name == 'ZZZ':\n",
    "        break\n",
    "    \n",
    "    # Ask for the student's first name\n",
    "    first_name = input(\"Enter the student's first name: \")\n",
    "    \n",
    "    # Ask for the student's GPA\n",
    "    gpa = float(input(\"Enter the student's GPA: \"))\n",
    "    \n",
    "    # Check if the student qualifies for the Dean's List or Honor Roll\n",
    "    if gpa >= 3.5:\n",
    "        print(f\"{first_name} {last_name} has made the Dean's List.\")\n",
    "    elif gpa >= 3.25:\n",
    "        print(f\"{first_name} {last_name} has made the Honor Roll.\")\n",
    "    else:\n",
    "        print(f\"{first_name} {last_name} does not qualify for the Dean's List or Honor Roll.\")\n"
   ]
  },
  {
   "cell_type": "code",
   "execution_count": null,
   "id": "ccdbc16f-41cf-4890-a9a1-83ebd484c590",
   "metadata": {},
   "outputs": [],
   "source": []
  }
 ],
 "metadata": {
  "kernelspec": {
   "display_name": "Python 3 (ipykernel)",
   "language": "python",
   "name": "python3"
  },
  "language_info": {
   "codemirror_mode": {
    "name": "ipython",
    "version": 3
   },
   "file_extension": ".py",
   "mimetype": "text/x-python",
   "name": "python",
   "nbconvert_exporter": "python",
   "pygments_lexer": "ipython3",
   "version": "3.12.4"
  }
 },
 "nbformat": 4,
 "nbformat_minor": 5
}
